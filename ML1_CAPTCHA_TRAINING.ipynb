{
  "nbformat": 4,
  "nbformat_minor": 0,
  "metadata": {
    "colab": {
      "provenance": [],
      "machine_shape": "hm",
      "gpuType": "A100"
    },
    "kernelspec": {
      "name": "python3",
      "display_name": "Python 3"
    },
    "language_info": {
      "name": "python"
    },
    "accelerator": "GPU"
  },
  "cells": [
    {
      "cell_type": "code",
      "execution_count": null,
      "metadata": {
        "collapsed": true,
        "id": "vJaRPG2gcVe2"
      },
      "outputs": [],
      "source": [
        "import torch\n",
        "import torch.nn as nn\n",
        "import torch.optim as optim\n",
        "import torchvision.transforms as transforms\n",
        "from torch.utils.data import DataLoader, random_split\n",
        "from torchvision.datasets import ImageFolder\n",
        "from torch.cuda.amp import autocast, GradScaler\n",
        "import timm\n",
        "from tqdm import tqdm\n",
        "import pandas as pd\n",
        "import os"
      ]
    },
    {
      "cell_type": "code",
      "source": [
        "# 2. Daten laden\n",
        "from google.colab import drive\n",
        "drive.mount('/content/drive')"
      ],
      "metadata": {
        "colab": {
          "base_uri": "https://localhost:8080/"
        },
        "id": "r7xzl1cvdeKQ",
        "outputId": "df1e35aa-636b-4260-fcde-ceea1ada7b92"
      },
      "execution_count": null,
      "outputs": [
        {
          "output_type": "stream",
          "name": "stdout",
          "text": [
            "Drive already mounted at /content/drive; to attempt to forcibly remount, call drive.mount(\"/content/drive\", force_remount=True).\n"
          ]
        }
      ]
    },
    {
      "cell_type": "code",
      "source": [
        "# Konstanten für optimale A100 Nutzung\n",
        "BATCH_SIZE = 256  # Erhöhen wenn mehr GPU-Auslastung\n",
        "NUM_EPOCHS = 20\n",
        "NUM_CLASSES = 12 # Klassen im Klassifizierungsproblem (hier 12 angegebene Klassen)\n",
        "TRAIN_SPLIT = 0.8\n",
        "LEARNING_RATE = 2e-4  # Leicht erhöhen wenn größere Batches\n",
        "NUM_WORKERS = 8  # Erhöhen für bessere Parallelisierung, Anzahl der Parallel-Threads für das Laden der Daten\n",
        "PIN_MEMORY = True # Aktiviert die Nutzung von “pinned” Speicher, der schneller zwischen CPU und GPU übertragen werden kann (optimiert die Datentransfers für CUDA)\n",
        "PREFETCH_FACTOR = 4 # Anzahl der Datenbatches, die der DataLoader vorab lädt\n",
        "\n",
        "# Optimierungen für CUDA\n",
        "torch.backends.cudnn.benchmark = True # Aktiviert den CUDNN-Benchmark-Modus (NVIDIA-Bibliothek, die für neuronale Netze optimiert ist = PyTorch testet verschiedene Algorithmen und wählt den schnellsten für die aktuelle Hardware und Konfiguration aus)\n",
        "DEVICE = torch.device('cuda' if torch.cuda.is_available() else 'cpu') # Automatische Gerätezuteilung, wenn cuda nicht verfügbar läuft auf CPU (dann aber achtung, evtl sind dann die Einstellungen so, dass memory voll läuft)"
      ],
      "metadata": {
        "id": "yXhZIUX9tN64"
      },
      "execution_count": null,
      "outputs": []
    },
    {
      "cell_type": "code",
      "source": [
        "# Datentransformationen\n",
        "# Zwei Transformationen: können auf die Bilder angewendet werden, bereiten auf CNN vor\n",
        "\n",
        "# train transform auf die Trainingsdaten\n",
        "train_transforms = transforms.Compose([\n",
        "    transforms.Resize((224, 224)), # Ändert die Größe des Bildes auf 224x224 Pixel, da ResNet diese Bildgröße erfordert\n",
        "    transforms.RandomHorizontalFlip(), # Führt eine zufällige horizontale Spiegelung (Flipping) durch, damit die Variation der Trainingsdaten & somit das Training besser wird\n",
        "    transforms.RandomRotation(15),  # Rotiert das Bild um einen zufälligen Winkel zwischen minus und plus 15 grad\n",
        "    transforms.ColorJitter(brightness=0.3, contrast=0.3, saturation=0.3, hue=0.1),  # Verändert die Helligkeit, den Kontrast, die Sättigung und den Farbton des Bildes zufällig, damit wieder Variation mehr und Training besser: brightness um bis zu plus/minus30% etc\n",
        "    transforms.RandomAffine(degrees=10, translate=(0.1, 0.1), scale=(0.9, 1.1)), # Kombiniert mehrere Transformationen (z. B. Drehung, Skalierung, Translation), wendet auf bilder an: rotiert das Bild zufällig zwischen -/+10°, verschiebt das Bild zufällig bis zu 10 % der Bildbreite und -höhe, akaliert das Bild zufällig zwischen 90 % - 110 % der ursprünglichen Größe\n",
        "    transforms.ToTensor(), # Konvertiert das Bild von einem PIL-Bild (oder NumPy-Array) in einen PyTorch-Tensor + es werden die Pixelwerte von [0, 255] auf den Bereich [0, 1] skaliert\n",
        "    transforms.Normalize(mean=[0.485, 0.456, 0.406], std=[0.229, 0.224, 0.225]) # Normalisiert Pixelwerte des Bildes basierend auf den angegebenen mean und std: Durchschnittswerte für die RGB-Kanäle (basierend auf den Werten des ImageNet-Datensatzes) + Standardabweichungen für die RGB-Kanäle = hilft, die Konvergenz des Modells zu beschleunigen und Stabilität zu gewährleisten\n",
        "])\n",
        "\n",
        "# val transform auf die Test Daten\n",
        "val_transforms = transforms.Compose([\n",
        "    transforms.Resize((224, 224)), # Passt die Größe des Bildes an (wie bei den Trainingsdaten)\n",
        "    transforms.ToTensor(), # Konvertiert das Bild in Tensor\n",
        "    transforms.Normalize(mean=[0.485, 0.456, 0.406], std=[0.229, 0.224, 0.225]) # Normalisiert die Bilder, genauso wie bei den Trainingsdaten\n",
        "])"
      ],
      "metadata": {
        "id": "IbPvpQgihrD6"
      },
      "execution_count": null,
      "outputs": []
    },
    {
      "cell_type": "code",
      "source": [
        "class CAPTCHAModel(nn.Module): # unsere captcha model Klasse erbt von nn.Module, der Basisklasse für alle neuronalen Netze in PyTorch, dadurch können wir alle PyTorch-Funktionen und -Methoden nutzen\n",
        "    def __init__(self, num_classes):\n",
        "        super(CAPTCHAModel, self).__init__()\n",
        "        self.model = timm.create_model('efficientnet_b0', pretrained=True) # efficientnet_b0: vortrainiertes Modell aus der timm-Bibliothek, das für Bildklassifizierungsaufgaben optimiert ist\n",
        "\n",
        "        # Das vortrainierte EfficientNet hat eine Standardklassifikationsschicht, die auf ImageNet (1000 Klassen) abgestimmt ist, diese muss ersetzt werden, um auf unsere spezifische Aufgabe der CAPTCHA-Klassifizierung zu passen\n",
        "        self.model.classifier = nn.Sequential( # erlaubt, mehrere Schichten hintereinander zu stapeln\n",
        "            nn.Dropout(0.3),  # Regularisierungstrick, bei dem während des Trainings zufällig 30 % der Neuronen “deaktiviert” werden, verhindert Overfitting: bietet eine gute Balance: 30%, weil: genug Regularisierung, um Overfitting zu reduzieren, aber nicht so viel, dass die Modellkapazität stark eingeschränkt wird (empirische Best Practice)\n",
        "            nn.Linear(self.model.classifier.in_features, num_classes) # in_features = Eingabegröße (Anzahl der Neuronen) der ursprünglichen Klassifikationsschicht (wird automatisch gelesen) und num_classes = unsere Kategorien, 12\n",
        "        )\n",
        "\n",
        "    def forward(self, x): # forward-Methode definiert, wie die Eingabe durch das Modell verarbeitet wird\n",
        "        return self.model(x) # x ist Eingabe, zb Bild\n",
        "\n",
        "def load_data(train_val_dir):\n",
        "    full_dataset = ImageFolder(train_val_dir, transform=train_transforms) # torchvision.datasets.ImageFolder, um Bilder aus einem Verzeichnis zu laden\n",
        "\n",
        "    train_size = int(TRAIN_SPLIT * len(full_dataset))\n",
        "    val_size = len(full_dataset) - train_size\n",
        "    train_dataset, val_dataset = random_split(full_dataset, [train_size, val_size])\n",
        "\n",
        "    val_dataset.dataset.transform = val_transforms\n",
        "\n",
        "    train_loader = DataLoader( # effizientes auf GPU spez. Laden der Daten in Batches\n",
        "        train_dataset,\n",
        "        batch_size=BATCH_SIZE,\n",
        "        shuffle=True, # Mischt Daten bei jedem Durchlauf\n",
        "        num_workers=NUM_WORKERS, # Anzahl der parallelen Worker-Prozesse zum Laden der Daten\n",
        "        pin_memory=PIN_MEMORY, # Optimiert den Speicherzugriff für schnellere Datenübertragung von CPU zur GPU, oben definiert als True\n",
        "        prefetch_factor=PREFETCH_FACTOR, # Lädt Daten im Voraus, um GPU-Leerlauf zu vermeiden, oben definiert als 4\n",
        "        persistent_workers=True # Beibehaltung der Worker-Prozesse zwischen Epochen, um Latenzen zu reduzieren\n",
        "    )\n",
        "\n",
        "    val_loader = DataLoader(\n",
        "        val_dataset,\n",
        "        batch_size=BATCH_SIZE,\n",
        "        shuffle=False,\n",
        "        num_workers=NUM_WORKERS,\n",
        "        pin_memory=PIN_MEMORY,\n",
        "        prefetch_factor=PREFETCH_FACTOR,\n",
        "        persistent_workers=True\n",
        "    )\n",
        "\n",
        "    return train_loader, val_loader, full_dataset.classes\n",
        "\n",
        "def train_epoch(model, train_loader, criterion, optimizer, scaler):\n",
        "    model.train()\n",
        "    train_loss = 0.0\n",
        "    train_correct = 0\n",
        "    train_total = 0\n",
        "\n",
        "    for inputs, labels in tqdm(train_loader, desc='Training'): # inputs: Bilder pro Batch,labels: unsere 12 Zielklassen, tqdm: Zeigt einen Fortschrittsbalken an\n",
        "        inputs, labels = inputs.to(DEVICE), labels.to(DEVICE) # Überträgt die Eingabedaten (inputs) und Labels (labels) auf die GPU oder CPU\n",
        "\n",
        "        optimizer.zero_grad() # Setzt die Gradienten aller Modellparameter auf 0 zurück, notwendig, da PyTorch Gradienten während des Backpropagation akkumuliert\n",
        "\n",
        "        with autocast():  # Mixed Precision Training: einige Berechnungen werden mit halber Präzision (FP16) ausgeführt, um Speicherverbrauch zu reduzieren und Training zu beschleunigen\n",
        "            outputs = model(inputs)\n",
        "            loss = criterion(outputs, labels) # Berechnung Fehler mit Verlustfunk (criterion)\n",
        "\n",
        "        scaler.scale(loss).backward() # Berechnet die Gradienten des Verlusts in Bezug auf die Modellparameter (Gewichte und Biases)\n",
        "        scaler.step(optimizer) # Aktualisiert die Modellparameter (z. B. Gewichte) basierend auf den Gradienten und der gewählten Optimierungsstrategie\n",
        "        scaler.update()\n",
        "\n",
        "        # Genauigkeit berechnen\n",
        "        train_loss += loss.item()\n",
        "        _, predicted = outputs.max(1) # Gibt die Klasse mit der höchsten Wahrscheinlichkeit (Vorhersage) für jede Eingabe zurück\n",
        "        train_total += labels.size(0)\n",
        "        train_correct += predicted.eq(labels).sum().item() # Vergleicht die vorhergesagten Klassen (predicted) mit den tatsächlichen Labels (labels), zählt die Anzahl der korrekten Vorhersagen und fügt diese zur Summe der korrekten Vorhersagen (train_correct) hinzu\n",
        "\n",
        "    return train_loss / len(train_loader), 100. * train_correct / train_total\n",
        "\n",
        "def validate(model, val_loader, criterion):\n",
        "    model.eval() # Setzt das Modell in den Evaluierungsmodus (zb wird Dropout und Batch Normalisierung wird deaktiviert, weil kein Dropout in Val und festgelegte Mittelwerte und Standardabweichungen, die während des Trainings gelernt wurden werden für Val genommen)\n",
        "    val_loss = 0.0\n",
        "    val_correct = 0\n",
        "    val_total = 0\n",
        "\n",
        "    with torch.no_grad(): # Deaktiviert die Gradientenberechnung während der Validierung\n",
        "        for inputs, labels in tqdm(val_loader, desc='Validation'):\n",
        "            inputs, labels = inputs.to(DEVICE), labels.to(DEVICE)\n",
        "\n",
        "            with autocast():\n",
        "                outputs = model(inputs)\n",
        "                loss = criterion(outputs, labels)\n",
        "\n",
        "            val_loss += loss.item()\n",
        "            _, predicted = outputs.max(1)\n",
        "            val_total += labels.size(0)\n",
        "            val_correct += predicted.eq(labels).sum().item()\n",
        "\n",
        "    return val_loss / len(val_loader), 100. * val_correct / val_total\n",
        "\n",
        "def train_model(model, train_loader, val_loader, criterion, optimizer, num_epochs, model_save_dir, classes):\n",
        "    scaler = GradScaler()\n",
        "    best_val_acc = 0.0\n",
        "\n",
        "    for epoch in range(num_epochs):\n",
        "        print(f'\\nEpoch {epoch+1}/{num_epochs}')\n",
        "\n",
        "        train_loss, train_acc = train_epoch(model, train_loader, criterion, optimizer, scaler)\n",
        "        val_loss, val_acc = validate(model, val_loader, criterion)\n",
        "\n",
        "        print(f'Train Loss: {train_loss:.4f}, Train Acc: {train_acc:.2f}%')\n",
        "        print(f'Val Loss: {val_loss:.4f}, Val Acc: {val_acc:.2f}%')\n",
        "\n",
        "        if val_acc > best_val_acc:\n",
        "            best_val_acc = val_acc\n",
        "            model_path = os.path.join(model_save_dir, 'best_model.pth')\n",
        "            torch.save({\n",
        "                'epoch': epoch,\n",
        "                'model_state_dict': model.state_dict(),\n",
        "                'optimizer_state_dict': optimizer.state_dict(),\n",
        "                'val_acc': val_acc,\n",
        "                'train_acc': train_acc,\n",
        "                'classes': classes\n",
        "            }, model_path)\n",
        "            print(f'Saved best model with validation accuracy: {val_acc:.2f}%')\n",
        "\n",
        "        # Cache leeren\n",
        "        if torch.cuda.is_available():\n",
        "            torch.cuda.empty_cache()\n"
      ],
      "metadata": {
        "id": "CMGg3SolhtQh"
      },
      "execution_count": null,
      "outputs": []
    },
    {
      "cell_type": "code",
      "source": [
        "def main():\n",
        "    train_val_dir = '/content/drive/MyDrive/ML1/train_val_data'\n",
        "    model_save_dir = '/content/drive/MyDrive/ML1/Best_Model'\n",
        "\n",
        "    os.makedirs(model_save_dir, exist_ok=True)\n",
        "\n",
        "    train_loader, val_loader, classes = load_data(train_val_dir)\n",
        "\n",
        "    # Modell initialisieren\n",
        "    model = CAPTCHAModel(NUM_CLASSES).to(DEVICE)\n",
        "\n",
        "    # Loss und Optimizer\n",
        "    criterion = nn.CrossEntropyLoss()\n",
        "    optimizer = optim.AdamW(model.parameters(), lr=LEARNING_RATE, weight_decay=1e-5)\n",
        "\n",
        "    # Training starten\n",
        "    train_model(model, train_loader, val_loader, criterion, optimizer, NUM_EPOCHS, model_save_dir, classes)\n"
      ],
      "metadata": {
        "id": "rhikef8rht8E"
      },
      "execution_count": null,
      "outputs": []
    },
    {
      "cell_type": "code",
      "source": [
        "if __name__ == '__main__':\n",
        "    main()"
      ],
      "metadata": {
        "colab": {
          "base_uri": "https://localhost:8080/"
        },
        "id": "5XHGi75Ohx4D",
        "outputId": "393520f7-62c7-4737-f098-4a3116ef1f2f"
      },
      "execution_count": null,
      "outputs": [
        {
          "output_type": "stream",
          "name": "stderr",
          "text": [
            "/usr/local/lib/python3.10/dist-packages/huggingface_hub/utils/_auth.py:94: UserWarning: \n",
            "The secret `HF_TOKEN` does not exist in your Colab secrets.\n",
            "To authenticate with the Hugging Face Hub, create a token in your settings tab (https://huggingface.co/settings/tokens), set it as secret in your Google Colab and restart your session.\n",
            "You will be able to reuse this secret in all of your notebooks.\n",
            "Please note that authentication is recommended but still optional to access public models or datasets.\n",
            "  warnings.warn(\n",
            "<ipython-input-5-8709b7621428>:92: FutureWarning: `torch.cuda.amp.GradScaler(args...)` is deprecated. Please use `torch.amp.GradScaler('cuda', args...)` instead.\n",
            "  scaler = GradScaler()\n"
          ]
        },
        {
          "output_type": "stream",
          "name": "stdout",
          "text": [
            "\n",
            "Epoch 1/20\n"
          ]
        },
        {
          "output_type": "stream",
          "name": "stderr",
          "text": [
            "\rTraining:   0%|          | 0/10 [00:00<?, ?it/s]<ipython-input-5-8709b7621428>:55: FutureWarning: `torch.cuda.amp.autocast(args...)` is deprecated. Please use `torch.amp.autocast('cuda', args...)` instead.\n",
            "  with autocast():  # Mixed Precision Training\n",
            "Training: 100%|██████████| 10/10 [00:17<00:00,  1.76s/it]\n",
            "Validation:   0%|          | 0/3 [00:00<?, ?it/s]<ipython-input-5-8709b7621428>:80: FutureWarning: `torch.cuda.amp.autocast(args...)` is deprecated. Please use `torch.amp.autocast('cuda', args...)` instead.\n",
            "  with autocast():\n",
            "Validation: 100%|██████████| 3/3 [00:03<00:00,  1.01s/it]\n"
          ]
        },
        {
          "output_type": "stream",
          "name": "stdout",
          "text": [
            "Train Loss: 2.1968, Train Acc: 32.08%\n",
            "Val Loss: 1.8597, Val Acc: 54.00%\n",
            "Saved best model with validation accuracy: 54.00%\n",
            "\n",
            "Epoch 2/20\n"
          ]
        },
        {
          "output_type": "stream",
          "name": "stderr",
          "text": [
            "Training: 100%|██████████| 10/10 [00:05<00:00,  1.95it/s]\n",
            "Validation: 100%|██████████| 3/3 [00:01<00:00,  2.02it/s]\n"
          ]
        },
        {
          "output_type": "stream",
          "name": "stdout",
          "text": [
            "Train Loss: 1.4560, Train Acc: 66.29%\n",
            "Val Loss: 1.2333, Val Acc: 64.83%\n",
            "Saved best model with validation accuracy: 64.83%\n",
            "\n",
            "Epoch 3/20\n"
          ]
        },
        {
          "output_type": "stream",
          "name": "stderr",
          "text": [
            "Training: 100%|██████████| 10/10 [00:05<00:00,  1.80it/s]\n",
            "Validation: 100%|██████████| 3/3 [00:01<00:00,  1.82it/s]\n"
          ]
        },
        {
          "output_type": "stream",
          "name": "stdout",
          "text": [
            "Train Loss: 0.9468, Train Acc: 77.58%\n",
            "Val Loss: 0.9750, Val Acc: 69.50%\n",
            "Saved best model with validation accuracy: 69.50%\n",
            "\n",
            "Epoch 4/20\n"
          ]
        },
        {
          "output_type": "stream",
          "name": "stderr",
          "text": [
            "Training: 100%|██████████| 10/10 [00:05<00:00,  1.90it/s]\n",
            "Validation: 100%|██████████| 3/3 [00:01<00:00,  1.88it/s]\n"
          ]
        },
        {
          "output_type": "stream",
          "name": "stdout",
          "text": [
            "Train Loss: 0.5945, Train Acc: 85.17%\n",
            "Val Loss: 0.7754, Val Acc: 76.17%\n",
            "Saved best model with validation accuracy: 76.17%\n",
            "\n",
            "Epoch 5/20\n"
          ]
        },
        {
          "output_type": "stream",
          "name": "stderr",
          "text": [
            "Training: 100%|██████████| 10/10 [00:05<00:00,  1.83it/s]\n",
            "Validation: 100%|██████████| 3/3 [00:01<00:00,  1.74it/s]\n"
          ]
        },
        {
          "output_type": "stream",
          "name": "stdout",
          "text": [
            "Train Loss: 0.3563, Train Acc: 91.54%\n",
            "Val Loss: 0.6912, Val Acc: 79.67%\n",
            "Saved best model with validation accuracy: 79.67%\n",
            "\n",
            "Epoch 6/20\n"
          ]
        },
        {
          "output_type": "stream",
          "name": "stderr",
          "text": [
            "Training: 100%|██████████| 10/10 [00:05<00:00,  1.91it/s]\n",
            "Validation: 100%|██████████| 3/3 [00:01<00:00,  1.99it/s]\n"
          ]
        },
        {
          "output_type": "stream",
          "name": "stdout",
          "text": [
            "Train Loss: 0.2142, Train Acc: 95.71%\n",
            "Val Loss: 0.6534, Val Acc: 80.67%\n",
            "Saved best model with validation accuracy: 80.67%\n",
            "\n",
            "Epoch 7/20\n"
          ]
        },
        {
          "output_type": "stream",
          "name": "stderr",
          "text": [
            "Training: 100%|██████████| 10/10 [00:05<00:00,  1.90it/s]\n",
            "Validation: 100%|██████████| 3/3 [00:01<00:00,  1.81it/s]\n"
          ]
        },
        {
          "output_type": "stream",
          "name": "stdout",
          "text": [
            "Train Loss: 0.1356, Train Acc: 97.79%\n",
            "Val Loss: 0.6422, Val Acc: 81.00%\n",
            "Saved best model with validation accuracy: 81.00%\n",
            "\n",
            "Epoch 8/20\n"
          ]
        },
        {
          "output_type": "stream",
          "name": "stderr",
          "text": [
            "Training: 100%|██████████| 10/10 [00:05<00:00,  1.94it/s]\n",
            "Validation: 100%|██████████| 3/3 [00:01<00:00,  1.83it/s]\n"
          ]
        },
        {
          "output_type": "stream",
          "name": "stdout",
          "text": [
            "Train Loss: 0.0839, Train Acc: 98.62%\n",
            "Val Loss: 0.6642, Val Acc: 81.17%\n",
            "Saved best model with validation accuracy: 81.17%\n",
            "\n",
            "Epoch 9/20\n"
          ]
        },
        {
          "output_type": "stream",
          "name": "stderr",
          "text": [
            "Training: 100%|██████████| 10/10 [00:05<00:00,  1.89it/s]\n",
            "Validation: 100%|██████████| 3/3 [00:01<00:00,  1.84it/s]\n"
          ]
        },
        {
          "output_type": "stream",
          "name": "stdout",
          "text": [
            "Train Loss: 0.0577, Train Acc: 99.00%\n",
            "Val Loss: 0.6727, Val Acc: 81.33%\n",
            "Saved best model with validation accuracy: 81.33%\n",
            "\n",
            "Epoch 10/20\n"
          ]
        },
        {
          "output_type": "stream",
          "name": "stderr",
          "text": [
            "Training: 100%|██████████| 10/10 [00:05<00:00,  1.95it/s]\n",
            "Validation: 100%|██████████| 3/3 [00:01<00:00,  1.86it/s]\n"
          ]
        },
        {
          "output_type": "stream",
          "name": "stdout",
          "text": [
            "Train Loss: 0.0428, Train Acc: 99.46%\n",
            "Val Loss: 0.6829, Val Acc: 81.33%\n",
            "\n",
            "Epoch 11/20\n"
          ]
        },
        {
          "output_type": "stream",
          "name": "stderr",
          "text": [
            "Training: 100%|██████████| 10/10 [00:05<00:00,  1.85it/s]\n",
            "Validation: 100%|██████████| 3/3 [00:01<00:00,  1.82it/s]\n"
          ]
        },
        {
          "output_type": "stream",
          "name": "stdout",
          "text": [
            "Train Loss: 0.0355, Train Acc: 99.67%\n",
            "Val Loss: 0.6857, Val Acc: 81.50%\n",
            "Saved best model with validation accuracy: 81.50%\n",
            "\n",
            "Epoch 12/20\n"
          ]
        },
        {
          "output_type": "stream",
          "name": "stderr",
          "text": [
            "Training: 100%|██████████| 10/10 [00:05<00:00,  1.87it/s]\n",
            "Validation: 100%|██████████| 3/3 [00:01<00:00,  1.92it/s]\n"
          ]
        },
        {
          "output_type": "stream",
          "name": "stdout",
          "text": [
            "Train Loss: 0.0277, Train Acc: 99.96%\n",
            "Val Loss: 0.6866, Val Acc: 81.50%\n",
            "\n",
            "Epoch 13/20\n"
          ]
        },
        {
          "output_type": "stream",
          "name": "stderr",
          "text": [
            "Training: 100%|██████████| 10/10 [00:05<00:00,  1.81it/s]\n",
            "Validation: 100%|██████████| 3/3 [00:01<00:00,  1.78it/s]\n"
          ]
        },
        {
          "output_type": "stream",
          "name": "stdout",
          "text": [
            "Train Loss: 0.0212, Train Acc: 99.92%\n",
            "Val Loss: 0.6825, Val Acc: 81.33%\n",
            "\n",
            "Epoch 14/20\n"
          ]
        },
        {
          "output_type": "stream",
          "name": "stderr",
          "text": [
            "Training: 100%|██████████| 10/10 [00:04<00:00,  2.02it/s]\n",
            "Validation: 100%|██████████| 3/3 [00:01<00:00,  1.85it/s]\n"
          ]
        },
        {
          "output_type": "stream",
          "name": "stdout",
          "text": [
            "Train Loss: 0.0172, Train Acc: 99.96%\n",
            "Val Loss: 0.6820, Val Acc: 80.83%\n",
            "\n",
            "Epoch 15/20\n"
          ]
        },
        {
          "output_type": "stream",
          "name": "stderr",
          "text": [
            "Training: 100%|██████████| 10/10 [00:05<00:00,  1.92it/s]\n",
            "Validation: 100%|██████████| 3/3 [00:01<00:00,  1.79it/s]\n"
          ]
        },
        {
          "output_type": "stream",
          "name": "stdout",
          "text": [
            "Train Loss: 0.0141, Train Acc: 99.96%\n",
            "Val Loss: 0.6833, Val Acc: 81.33%\n",
            "\n",
            "Epoch 16/20\n"
          ]
        },
        {
          "output_type": "stream",
          "name": "stderr",
          "text": [
            "Training: 100%|██████████| 10/10 [00:05<00:00,  1.97it/s]\n",
            "Validation: 100%|██████████| 3/3 [00:01<00:00,  1.86it/s]\n"
          ]
        },
        {
          "output_type": "stream",
          "name": "stdout",
          "text": [
            "Train Loss: 0.0121, Train Acc: 99.92%\n",
            "Val Loss: 0.6790, Val Acc: 81.83%\n",
            "Saved best model with validation accuracy: 81.83%\n",
            "\n",
            "Epoch 17/20\n"
          ]
        },
        {
          "output_type": "stream",
          "name": "stderr",
          "text": [
            "Training: 100%|██████████| 10/10 [00:05<00:00,  1.87it/s]\n",
            "Validation: 100%|██████████| 3/3 [00:01<00:00,  1.76it/s]\n"
          ]
        },
        {
          "output_type": "stream",
          "name": "stdout",
          "text": [
            "Train Loss: 0.0089, Train Acc: 100.00%\n",
            "Val Loss: 0.7004, Val Acc: 81.83%\n",
            "\n",
            "Epoch 18/20\n"
          ]
        },
        {
          "output_type": "stream",
          "name": "stderr",
          "text": [
            "Training: 100%|██████████| 10/10 [00:05<00:00,  1.93it/s]\n",
            "Validation: 100%|██████████| 3/3 [00:01<00:00,  1.80it/s]\n"
          ]
        },
        {
          "output_type": "stream",
          "name": "stdout",
          "text": [
            "Train Loss: 0.0089, Train Acc: 99.96%\n",
            "Val Loss: 0.6693, Val Acc: 82.33%\n",
            "Saved best model with validation accuracy: 82.33%\n",
            "\n",
            "Epoch 19/20\n"
          ]
        },
        {
          "output_type": "stream",
          "name": "stderr",
          "text": [
            "Training: 100%|██████████| 10/10 [00:05<00:00,  1.91it/s]\n",
            "Validation: 100%|██████████| 3/3 [00:01<00:00,  1.75it/s]\n"
          ]
        },
        {
          "output_type": "stream",
          "name": "stdout",
          "text": [
            "Train Loss: 0.0058, Train Acc: 100.00%\n",
            "Val Loss: 0.6800, Val Acc: 82.00%\n",
            "\n",
            "Epoch 20/20\n"
          ]
        },
        {
          "output_type": "stream",
          "name": "stderr",
          "text": [
            "Training: 100%|██████████| 10/10 [00:04<00:00,  2.01it/s]\n",
            "Validation: 100%|██████████| 3/3 [00:01<00:00,  1.97it/s]\n"
          ]
        },
        {
          "output_type": "stream",
          "name": "stdout",
          "text": [
            "Train Loss: 0.0048, Train Acc: 100.00%\n",
            "Val Loss: 0.6853, Val Acc: 82.17%\n"
          ]
        }
      ]
    },
    {
      "cell_type": "code",
      "source": [
        "import matplotlib.pyplot as plt\n",
        "\n",
        "# Daten aus dem Training\n",
        "epochs = list(range(1, 21))\n",
        "train_losses = [2.1968, 1.4560, 0.9468, 0.5945, 0.3563, 0.2142, 0.1356, 0.0839, 0.0577, 0.0428, 0.0355, 0.0277, 0.0212, 0.0172, 0.0141, 0.0121, 0.0089, 0.0089, 0.0058, 0.0048]\n",
        "val_losses = [1.8597, 1.2333, 0.9750, 0.7754, 0.6912, 0.6534, 0.6422, 0.6642, 0.6727, 0.6829, 0.6857, 0.6866, 0.6825, 0.6820, 0.6833, 0.6790, 0.7004, 0.6693, 0.6800, 0.6853]\n",
        "val_accuracies = [54.00, 64.83, 69.50, 76.17, 79.67, 80.67, 81.00, 81.17, 81.33, 81.33, 81.50, 81.50, 81.33, 80.83, 81.33, 81.83, 81.83, 82.33, 82.00, 82.17]\n",
        "\n",
        "plt.figure(figsize=(12, 6))\n",
        "\n",
        "plt.plot(epochs, train_losses, label=\"Train Loss\", marker='o', linestyle='-')\n",
        "plt.plot(epochs, val_losses, label=\"Validation Loss\", marker='o', linestyle='--')\n",
        "\n",
        "plt.plot(epochs, val_accuracies, label=\"Validation Accuracy\", marker='x', linestyle='-.')\n",
        "\n",
        "plt.title(\"Training and Validation Losses & Validation Accuracy\")\n",
        "plt.xlabel(\"Epoch\")\n",
        "plt.ylabel(\"Loss / Accuracy (%)\")\n",
        "plt.legend()\n",
        "plt.grid(True)\n",
        "\n",
        "plt.show()"
      ],
      "metadata": {
        "colab": {
          "base_uri": "https://localhost:8080/",
          "height": 564
        },
        "id": "PvCKrgQ_Xl8P",
        "outputId": "8138544f-facd-46b6-8c25-1455237e0c46"
      },
      "execution_count": 8,
      "outputs": [
        {
          "output_type": "display_data",
          "data": {
            "text/plain": [
              "<Figure size 1200x600 with 1 Axes>"
            ],
            "image/png": "[encoded data removed]"
          },
          "metadata": {}
        }
      ]
    },
    {
      "cell_type": "code",
      "source": [
        "plt.figure(figsize=(12, 6))\n",
        "\n",
        "plt.plot(epochs, train_losses, label=\"Train Loss\", marker='o', linestyle='-')\n",
        "plt.plot(epochs, val_losses, label=\"Validation Loss\", marker='o', linestyle='--')\n",
        "\n",
        "plt.title(\"Training and Validation Losses\")\n",
        "plt.xlabel(\"Epoch\")\n",
        "plt.ylabel(\"Loss\")\n",
        "plt.ylim(0, max(max(train_losses), max(val_losses)) + 0.2)  # Y-Achse anpassen, um Verluste besser sichtbar zu machen\n",
        "plt.legend()\n",
        "plt.grid(True)\n",
        "\n",
        "plt.show()"
      ],
      "metadata": {
        "colab": {
          "base_uri": "https://localhost:8080/",
          "height": 564
        },
        "id": "B4iaN3_DX-gH",
        "outputId": "4e826eee-2d3d-4ed0-fe1b-c4fdcf7d1001"
      },
      "execution_count": 9,
      "outputs": [
        {
          "output_type": "display_data",
          "data": {
            "text/plain": [
              "<Figure size 1200x600 with 1 Axes>"
            ],
            "image/png": "[encoded data removed]"
          },
          "metadata": {}
        }
      ]
    }
  ]
}
